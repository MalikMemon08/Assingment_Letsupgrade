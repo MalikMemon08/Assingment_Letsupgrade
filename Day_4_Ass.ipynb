{
  "nbformat": 4,
  "nbformat_minor": 0,
  "metadata": {
    "colab": {
      "name": "Day_4.ipynb",
      "provenance": [],
      "collapsed_sections": []
    },
    "kernelspec": {
      "name": "python3",
      "display_name": "Python 3"
    },
    "language_info": {
      "name": "python"
    }
  },
  "cells": [
    {
      "cell_type": "code",
      "source": [
        "n = int(input('Enter a no.: '))\n",
        "def factorial(no):\n",
        "  fact = 1\n",
        "  while 1 < no:\n",
        "    fact = fact * no\n",
        "    no -= 1\n",
        "  return fact\n",
        "print('Factorial Of:',n, 'is', factorial(n))"
      ],
      "metadata": {
        "id": "c4Ir23mrsfP4",
        "colab": {
          "base_uri": "https://localhost:8080/"
        },
        "outputId": "85b64d7d-9640-4565-8149-8c9e3334559e"
      },
      "execution_count": 10,
      "outputs": [
        {
          "output_type": "stream",
          "name": "stdout",
          "text": [
            "Enter a no.: 5\n",
            "Factorial Of: 5 is 120\n"
          ]
        }
      ]
    }
  ]
}
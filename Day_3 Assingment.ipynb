{
  "nbformat": 4,
  "nbformat_minor": 0,
  "metadata": {
    "colab": {
      "name": "Day_3.ipynb",
      "provenance": [],
      "collapsed_sections": []
    },
    "kernelspec": {
      "name": "python3",
      "display_name": "Python 3"
    },
    "language_info": {
      "name": "python"
    }
  },
  "cells": [
    {
      "cell_type": "code",
      "source": [
        "s = 'malik iqbal memon from india'\n",
        "d = {}\n",
        "for i in s:\n",
        "  d[i] = d.get(i , 0) +1\n",
        "res = max(d, key = d.get)\n",
        "print('Your lottery charactor must be:',res)"
      ],
      "metadata": {
        "id": "c4Ir23mrsfP4",
        "colab": {
          "base_uri": "https://localhost:8080/"
        },
        "outputId": "3f2b50a9-c075-4a74-df91-c63dc9ff44b6"
      },
      "execution_count": 4,
      "outputs": [
        {
          "output_type": "stream",
          "name": "stdout",
          "text": [
            "Your lottery charactor must be: m\n"
          ]
        }
      ]
    }
  ]
}
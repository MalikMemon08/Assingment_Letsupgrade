{
  "nbformat": 4,
  "nbformat_minor": 0,
  "metadata": {
    "colab": {
      "name": "Day_2.ipynb",
      "provenance": [],
      "collapsed_sections": []
    },
    "kernelspec": {
      "name": "python3",
      "display_name": "Python 3"
    },
    "language_info": {
      "name": "python"
    }
  },
  "cells": [
    {
      "cell_type": "code",
      "source": [
        "lottery = 'I am Malik Memon'\n",
        "print('Choose correct character of the word', lottery, 'to win the lottery')\n",
        "win=['I', 'm', 'n', 'a']\n",
        "inp = input(\" \")\n",
        "if inp in win:\n",
        "  print('Congratulation you won the lottery')\n",
        "else:\n",
        "  print('Better Luck next time')"
      ],
      "metadata": {
        "colab": {
          "base_uri": "https://localhost:8080/"
        },
        "id": "L1O6nRJBqlzL",
        "outputId": "0721abff-5aa5-4891-db71-726789449f4b"
      },
      "execution_count": 2,
      "outputs": [
        {
          "output_type": "stream",
          "name": "stdout",
          "text": [
            "Choose correct character of the word I am Malik Memon to win the lottery\n",
            " m\n",
            "Congratulation you won the lottery\n"
          ]
        }
      ]
    }
  ]
}